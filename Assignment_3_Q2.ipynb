{
 "cells": [
  {
   "cell_type": "code",
   "execution_count": 3,
   "metadata": {},
   "outputs": [],
   "source": [
    "import astropy.units as u\n",
    "import astropy.constants as c\n",
    "import numpy as np\n",
    "import matplotlib.pyplot as plt\n",
    "from astroquery.gaia import Gaia"
   ]
  },
  {
   "cell_type": "code",
   "execution_count": 33,
   "metadata": {},
   "outputs": [
    {
     "name": "stdout",
     "output_type": "stream",
     "text": [
      "INFO: Query finished. [astroquery.utils.tap.core]\n"
     ]
    }
   ],
   "source": [
    "# Define and execute the ADQL query to obtain Gaia DR3 targets\n",
    "query = f\"\"\"\n",
    "SELECT *, (DISTANCE(132.825, 11.8, ra, dec)) AS ang_sep\n",
    "FROM gaiadr3.gaia_source\n",
    "WHERE DISTANCE(132.825, 11.8, ra, dec) < 1.\n",
    "AND phot_g_mean_mag < 13\n",
    "AND parallax IS NOT NULL\n",
    "ORDER BY ang_sep ASC\n",
    "\"\"\"\n",
    "\n",
    "# Upload the source_id table for crossmatching\n",
    "job = Gaia.launch_job_async(query=query)\n",
    "gaia = job.get_results()"
   ]
  },
  {
   "cell_type": "code",
   "execution_count": 35,
   "metadata": {},
   "outputs": [
    {
     "name": "stdout",
     "output_type": "stream",
     "text": [
      "INFO: Query finished. [astroquery.utils.tap.core]\n"
     ]
    }
   ],
   "source": [
    "# Define and execute the ADQL query to crossmatch 2MASS with Gaia DR3\n",
    "query = f\"\"\"\n",
    "SELECT *, (DISTANCE(132.825, 11.8, ra, dec)) AS ang_sep\n",
    "FROM gaiadr1.tmass_original_valid\n",
    "WHERE DISTANCE(132.825, 11.8, ra, dec) < 1.\n",
    "ORDER BY ang_sep ASC\n",
    "\"\"\"\n",
    "\n",
    "# Upload the source_id table for crossmatching\n",
    "job = Gaia.launch_job_async(query=query)\n",
    "tmass = job.get_results()"
   ]
  },
  {
   "cell_type": "code",
   "execution_count": 36,
   "metadata": {},
   "outputs": [
    {
     "name": "stdout",
     "output_type": "stream",
     "text": [
      "500 Error 500:\n",
      "null\n"
     ]
    },
    {
     "ename": "HTTPError",
     "evalue": "Error 500:\nnull",
     "output_type": "error",
     "traceback": [
      "\u001b[1;31m---------------------------------------------------------------------------\u001b[0m",
      "\u001b[1;31mHTTPError\u001b[0m                                 Traceback (most recent call last)",
      "\u001b[1;32m<ipython-input-36-b8886a4888f0>\u001b[0m in \u001b[0;36m<module>\u001b[1;34m\u001b[0m\n\u001b[0;32m     13\u001b[0m \u001b[1;33m\u001b[0m\u001b[0m\n\u001b[0;32m     14\u001b[0m \u001b[1;31m# Upload the source_id table for crossmatching\u001b[0m\u001b[1;33m\u001b[0m\u001b[1;33m\u001b[0m\u001b[1;33m\u001b[0m\u001b[0m\n\u001b[1;32m---> 15\u001b[1;33m \u001b[0mjob\u001b[0m \u001b[1;33m=\u001b[0m \u001b[0mGaia\u001b[0m\u001b[1;33m.\u001b[0m\u001b[0mlaunch_job_async\u001b[0m\u001b[1;33m(\u001b[0m\u001b[0mquery\u001b[0m\u001b[1;33m=\u001b[0m\u001b[0mquery\u001b[0m\u001b[1;33m)\u001b[0m\u001b[1;33m\u001b[0m\u001b[1;33m\u001b[0m\u001b[0m\n\u001b[0m\u001b[0;32m     16\u001b[0m \u001b[0mtmass\u001b[0m \u001b[1;33m=\u001b[0m \u001b[0mjob\u001b[0m\u001b[1;33m.\u001b[0m\u001b[0mget_results\u001b[0m\u001b[1;33m(\u001b[0m\u001b[1;33m)\u001b[0m\u001b[1;33m\u001b[0m\u001b[1;33m\u001b[0m\u001b[0m\n",
      "\u001b[1;32mD:\\ANU\\ANACONDA\\lib\\site-packages\\astroquery\\gaia\\core.py\u001b[0m in \u001b[0;36mlaunch_job_async\u001b[1;34m(self, query, name, output_file, output_format, verbose, dump_to_file, background, upload_resource, upload_table_name, autorun)\u001b[0m\n\u001b[0;32m   1019\u001b[0m         \u001b[0mA\u001b[0m \u001b[0mJob\u001b[0m \u001b[0mobject\u001b[0m\u001b[1;33m\u001b[0m\u001b[1;33m\u001b[0m\u001b[0m\n\u001b[0;32m   1020\u001b[0m         \"\"\"\n\u001b[1;32m-> 1021\u001b[1;33m         return TapPlus.launch_job_async(self, query=query,\n\u001b[0m\u001b[0;32m   1022\u001b[0m                                         \u001b[0mname\u001b[0m\u001b[1;33m=\u001b[0m\u001b[0mname\u001b[0m\u001b[1;33m,\u001b[0m\u001b[1;33m\u001b[0m\u001b[1;33m\u001b[0m\u001b[0m\n\u001b[0;32m   1023\u001b[0m                                         \u001b[0moutput_file\u001b[0m\u001b[1;33m=\u001b[0m\u001b[0moutput_file\u001b[0m\u001b[1;33m,\u001b[0m\u001b[1;33m\u001b[0m\u001b[1;33m\u001b[0m\u001b[0m\n",
      "\u001b[1;32mD:\\ANU\\ANACONDA\\lib\\site-packages\\astroquery\\utils\\tap\\core.py\u001b[0m in \u001b[0;36mlaunch_job_async\u001b[1;34m(self, query, name, output_file, output_format, verbose, dump_to_file, background, upload_resource, upload_table_name, autorun, maxrec, format_with_results_compressed)\u001b[0m\n\u001b[0;32m    478\u001b[0m                         \u001b[0mjob\u001b[0m\u001b[1;33m.\u001b[0m\u001b[0msave_results\u001b[0m\u001b[1;33m(\u001b[0m\u001b[0mverbose\u001b[0m\u001b[1;33m=\u001b[0m\u001b[0mverbose\u001b[0m\u001b[1;33m)\u001b[0m\u001b[1;33m\u001b[0m\u001b[1;33m\u001b[0m\u001b[0m\n\u001b[0;32m    479\u001b[0m                     \u001b[1;32melse\u001b[0m\u001b[1;33m:\u001b[0m\u001b[1;33m\u001b[0m\u001b[1;33m\u001b[0m\u001b[0m\n\u001b[1;32m--> 480\u001b[1;33m                         \u001b[0mjob\u001b[0m\u001b[1;33m.\u001b[0m\u001b[0mget_results\u001b[0m\u001b[1;33m(\u001b[0m\u001b[1;33m)\u001b[0m\u001b[1;33m\u001b[0m\u001b[1;33m\u001b[0m\u001b[0m\n\u001b[0m\u001b[0;32m    481\u001b[0m                         \u001b[0mlog\u001b[0m\u001b[1;33m.\u001b[0m\u001b[0minfo\u001b[0m\u001b[1;33m(\u001b[0m\u001b[1;34m\"Query finished.\"\u001b[0m\u001b[1;33m)\u001b[0m\u001b[1;33m\u001b[0m\u001b[1;33m\u001b[0m\u001b[0m\n\u001b[0;32m    482\u001b[0m         \u001b[1;32mreturn\u001b[0m \u001b[0mjob\u001b[0m\u001b[1;33m\u001b[0m\u001b[1;33m\u001b[0m\u001b[0m\n",
      "\u001b[1;32mD:\\ANU\\ANACONDA\\lib\\site-packages\\astroquery\\utils\\tap\\model\\job.py\u001b[0m in \u001b[0;36mget_results\u001b[1;34m(self)\u001b[0m\n\u001b[0;32m    240\u001b[0m         \u001b[1;32melse\u001b[0m\u001b[1;33m:\u001b[0m\u001b[1;33m\u001b[0m\u001b[1;33m\u001b[0m\u001b[0m\n\u001b[0;32m    241\u001b[0m             \u001b[1;31m# async: result is in the server once the job is finished\u001b[0m\u001b[1;33m\u001b[0m\u001b[1;33m\u001b[0m\u001b[1;33m\u001b[0m\u001b[0m\n\u001b[1;32m--> 242\u001b[1;33m             \u001b[0mself\u001b[0m\u001b[1;33m.\u001b[0m\u001b[0m__load_async_job_results\u001b[0m\u001b[1;33m(\u001b[0m\u001b[1;33m)\u001b[0m\u001b[1;33m\u001b[0m\u001b[1;33m\u001b[0m\u001b[0m\n\u001b[0m\u001b[0;32m    243\u001b[0m             \u001b[1;32mreturn\u001b[0m \u001b[0mself\u001b[0m\u001b[1;33m.\u001b[0m\u001b[0mresults\u001b[0m\u001b[1;33m\u001b[0m\u001b[1;33m\u001b[0m\u001b[0m\n\u001b[0;32m    244\u001b[0m \u001b[1;33m\u001b[0m\u001b[0m\n",
      "\u001b[1;32mD:\\ANU\\ANACONDA\\lib\\site-packages\\astroquery\\utils\\tap\\model\\job.py\u001b[0m in \u001b[0;36m__load_async_job_results\u001b[1;34m(self, debug)\u001b[0m\n\u001b[0;32m    345\u001b[0m         resultsResponse = self.__handle_redirect_if_required(resultsResponse,\n\u001b[0;32m    346\u001b[0m                                                              verbose=debug)\n\u001b[1;32m--> 347\u001b[1;33m         \u001b[0misError\u001b[0m \u001b[1;33m=\u001b[0m \u001b[0mself\u001b[0m\u001b[1;33m.\u001b[0m\u001b[0mconnHandler\u001b[0m\u001b[1;33m.\u001b[0m\u001b[0;31m\\\u001b[0m\u001b[1;33m\u001b[0m\u001b[1;33m\u001b[0m\u001b[0m\n\u001b[0m\u001b[0;32m    348\u001b[0m             check_launch_response_status(resultsResponse,\n\u001b[0;32m    349\u001b[0m                                          \u001b[0mdebug\u001b[0m\u001b[1;33m,\u001b[0m\u001b[1;33m\u001b[0m\u001b[1;33m\u001b[0m\u001b[0m\n",
      "\u001b[1;32mD:\\ANU\\ANACONDA\\lib\\site-packages\\astroquery\\utils\\tap\\conn\\tapconn.py\u001b[0m in \u001b[0;36mcheck_launch_response_status\u001b[1;34m(self, response, debug, expected_response_status, raise_exception)\u001b[0m\n\u001b[0;32m    670\u001b[0m             \u001b[0merrMsg\u001b[0m \u001b[1;33m=\u001b[0m \u001b[0mtaputils\u001b[0m\u001b[1;33m.\u001b[0m\u001b[0mget_http_response_error\u001b[0m\u001b[1;33m(\u001b[0m\u001b[0mresponse\u001b[0m\u001b[1;33m)\u001b[0m\u001b[1;33m\u001b[0m\u001b[1;33m\u001b[0m\u001b[0m\n\u001b[0;32m    671\u001b[0m             \u001b[0mprint\u001b[0m\u001b[1;33m(\u001b[0m\u001b[0mresponse\u001b[0m\u001b[1;33m.\u001b[0m\u001b[0mstatus\u001b[0m\u001b[1;33m,\u001b[0m \u001b[0merrMsg\u001b[0m\u001b[1;33m)\u001b[0m\u001b[1;33m\u001b[0m\u001b[1;33m\u001b[0m\u001b[0m\n\u001b[1;32m--> 672\u001b[1;33m             \u001b[1;32mraise\u001b[0m \u001b[0mrequests\u001b[0m\u001b[1;33m.\u001b[0m\u001b[0mexceptions\u001b[0m\u001b[1;33m.\u001b[0m\u001b[0mHTTPError\u001b[0m\u001b[1;33m(\u001b[0m\u001b[0merrMsg\u001b[0m\u001b[1;33m)\u001b[0m\u001b[1;33m\u001b[0m\u001b[1;33m\u001b[0m\u001b[0m\n\u001b[0m\u001b[0;32m    673\u001b[0m         \u001b[1;32melse\u001b[0m\u001b[1;33m:\u001b[0m\u001b[1;33m\u001b[0m\u001b[1;33m\u001b[0m\u001b[0m\n\u001b[0;32m    674\u001b[0m             \u001b[1;32mreturn\u001b[0m \u001b[0misError\u001b[0m\u001b[1;33m\u001b[0m\u001b[1;33m\u001b[0m\u001b[0m\n",
      "\u001b[1;31mHTTPError\u001b[0m: Error 500:\nnull"
     ]
    }
   ],
   "source": [
    "# Define and execute the ADQL query to crossmatch 2MASS with Gaia DR3\n",
    "query = f\"\"\"\n",
    "SELECT *, (DISTANCE(132.825, 11.8, ra, dec)) AS ang_sep\n",
    "FROM gaiadr3.gaia_source\n",
    "JOIN gaiaedr3.tmass_psc_xsc_best_neighbour AS xmatch USING (source_id)\n",
    "JOIN gaiaedr3.tmass_psc_xsc_join AS xjoin\n",
    "   ON xmatch.original_ext_source_id = xjoin.original_psc_source_id\n",
    "JOIN gaiadr1.tmass_original_valid AS tmass\n",
    "   ON xjoin.original_psc_source_id = tmass.designation\n",
    "WHERE DISTANCE(132.825, 11.8, ra, dec) < 1.\n",
    "ORDER BY ang_sep ASC\n",
    "\"\"\"\n",
    "\n",
    "# Upload the source_id table for crossmatching\n",
    "job = Gaia.launch_job_async(query=query)\n",
    "tmass = job.get_results()"
   ]
  }
 ],
 "metadata": {
  "kernelspec": {
   "display_name": "Python 3",
   "language": "python",
   "name": "python3"
  },
  "language_info": {
   "codemirror_mode": {
    "name": "ipython",
    "version": 3
   },
   "file_extension": ".py",
   "mimetype": "text/x-python",
   "name": "python",
   "nbconvert_exporter": "python",
   "pygments_lexer": "ipython3",
   "version": "3.8.5"
  }
 },
 "nbformat": 4,
 "nbformat_minor": 4
}
